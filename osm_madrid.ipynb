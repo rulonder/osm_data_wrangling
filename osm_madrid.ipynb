{
 "cells": [
  {
   "cell_type": "code",
   "execution_count": 1,
   "metadata": {
    "collapsed": true
   },
   "outputs": [],
   "source": [
    "#!/usr/bin/env python\n",
    "# -*- coding: utf-8 -*-\n",
    "%matplotlib inline\n",
    "import pprint\n",
    "import matplotlib.pyplot as plt\n",
    "from matplotlib.legend_handler import HandlerLine2D\n",
    "import seaborn as sns"
   ]
  },
  {
   "cell_type": "markdown",
   "metadata": {},
   "source": [
    "# Mongo DB data wrangling\n",
    "\n",
    "In this document we are going to analyse the OSM dataset for Madrid , the dataset has been downloaded from :\n",
    "\n",
    "https://mapzen.com/data/metro-extracts/metro/madrid_spain/101748283/Madrid/\n",
    "\n",
    "Madrid is my home town so the spotting errors in the dataset should be easier. The dataset covers the whole province of Madrid but as it is defined as an square area in also includes some features of the neighbour provinces which are:\n",
    "\n",
    "- Toledo\n",
    "- Avila\n",
    "- Segovia\n",
    "- Guadalajara\n",
    "- Cuenca\n",
    "\n",
    "We need to take this into account when analysing the dataset.\n",
    "\n",
    "![osm covered area](map.png)\n",
    "\n",
    "For this analysis I have chosen MongoDB as the database. \n",
    "\n",
    "## Problems encountered in the map\n",
    "\n",
    "After generating a reduced dataset with a 10th of the records.We proceed with the initial assessment of the data using a reduced dataset, the following fields have been analysed:\n",
    "\n",
    "- street names\n",
    "- leisures\n",
    "- amenities\n",
    "- postal codes\n",
    "\n",
    "We haved generated a sample file with a 10th of the values for the data wrangling analysis usgin the create_sample_from_osm.py script. This script will also generate a sample with a 100th of the data more suitable for upload. The data from the sample file was then audited using the audit_sample_dataset.py script.\n",
    "\n",
    "Based on this analysis some filtering or cleaning functions will be generated in order to clean the error encountered in the data.\n"
   ]
  },
  {
   "cell_type": "markdown",
   "metadata": {},
   "source": [
    "### Street names\n",
    "\n",
    "First we are going to clean the street names, so we will modify street abbreviations into the full name in order to have consistent street definitions across the dataset. We have to take into account that in spanish, contrary to english, the type of street is the first word. Finally we will use lower case in order to simplify the analysis.\n",
    "\n",
    "We can find both abbreviations such as:\n",
    "- Av and Avd instead of Avenida (Avenue)\n",
    "- Pz instead of Plaza (Square)\n",
    "\n",
    "and typos such as:\n",
    "- 'Call' instead of 'calle' (street)\n",
    "- 'carrera' instead of 'carretera' (Road), however \"carrera\" is a valid street type, this kind of errors can be easily missed, two of these cases have been found : 'CARRERA': set([u'CARRERA CARRETERA DE CRINON, S/N', 'CARRERA VALENCIA, KM 14.800'])})\n",
    "\n",
    "Spanish roads use a common nomenclarture : a set of letters followed by a number e.g. A-6 M-604, we can match these entries using a regexp and add them to the type \"carretera\" (road). Assuming that we are using lowercase name we can use the folloing regexp\n",
    "\n",
    "```\n",
    "    /[a-z]+\\-[0-9]+/\n",
    "```\n",
    "\n",
    "Some fields are preceded by \"CL\" and then a valid address type, in these cases whe should remove the leading \"CL\". e.g. \"CL AVENIDA\" should be \"avenida\" (avenue).\n",
    "\n",
    "The most common error is the use of streets names withouth the street identifier, so we will by default add street and the begining of these entries.\n",
    "\n",
    "Next we found that C.N.-603-MARGEN should be \"carretera n-603\". Therefore we will change \"C.N.\" into \"carretera n-\"\n",
    "\n",
    "Another problem found was the presence of accented words, so in order to simplify the further analysis we will remove the accents of the words. e.g. we will use \"travesia\" instead of the gramatically correct \"travesía\", as this will simplify our database handling as well as filtering some errors in the inputs.\n"
   ]
  },
  {
   "cell_type": "markdown",
   "metadata": {},
   "source": [
    "### Leisures\n",
    "\n",
    "We want also to check for kind of leisures are available and clean those fields. As we would like to make queries related with the number of green places in the city. \n",
    "\n",
    "There are no big issues in this fields,the only fix we are going to apply is to equal \"nature_reserve\" to \"natural_reserve\" as they represent the same leisure. for our purpouse we could consider both \"park\" and \"natural reserve\". We observed that most the entries for \"leisures\" are in english, but for the \"pista de cemento\" (cement pitch), fortunately this is not affecting our analysis so we are not going to modify these fields.\n",
    "\n",
    "Nevertheless, the fields can be considered to be uniquely identified either in spanish or english, so we can keep them as they are as there is not any kind of leisure that is described in both languages at the same time.\n"
   ]
  },
  {
   "cell_type": "markdown",
   "metadata": {},
   "source": [
    "### Amenities\n",
    "\n",
    "We want also to check what kind of amenities are available and clean those fields.\n",
    "\n",
    "Unlike for leisures in amenities we can find that the same amenity is defined in some cases in both spanish and english, for example:\n",
    "\n",
    "- \"biblioteca\" and \"library\"\n",
    "- \"espacio_trabajo\" and \"coworking_space\"\n",
    "\n",
    "It is convenient to use an unique language for the amenities definitions. Therefore, we will translate these entries into english.\n"
   ]
  },
  {
   "cell_type": "markdown",
   "metadata": {},
   "source": [
    "### Postal codes\n",
    "\n",
    "The postal codes in spain consist of 5 numbers, of which the 2 first depend on the provinces, as we have 6 provinces in opur dataset, we can find 6 sets of postal codes:\n",
    "\n",
    "- Madrid: 28XXX\n",
    "- Toledo: 45XXX\n",
    "- Avila: 05XXX\n",
    "- Segovia: 40XXX\n",
    "- Guadalajara: 19XXX\n",
    "- Cuenca: 16XXX\n",
    "\n",
    "From the sample dataset the following non conforming postcodes have been found:\n",
    "\n",
    " - 21-23\n",
    " - 2829\n",
    " - 2839\n",
    " - 288981\n",
    " - 2945\n",
    " - E28016\n",
    "\n",
    "In some cases we can find that a postcode has a leading letter such as \"E28016\", so we will remove this leading letters in order to have a consistent postcode dataset.\n",
    "\n",
    "Therefore we can build a regexp to filter those postal codes that do not match one of the above. Using this approach we can see that there are postal codes that have not been properly set, for instance using 4 or 6 digits, in other cases there is a letter in the postal code or an invalid separator such as \"-\". In order to have a clean dataset we will remove these entries."
   ]
  },
  {
   "cell_type": "markdown",
   "metadata": {},
   "source": [
    "Next, we are going to load our XML data into a more appropiate object representation that will be loaded into a JSON file in order to import it into the final mongoDB database. For this task we will use the python file create_json_from_osm.py , executing it from the command line."
   ]
  },
  {
   "cell_type": "markdown",
   "metadata": {},
   "source": [
    "### Load into Mongo DB\n",
    "\n",
    "We then import this dataset into mongodb using the mongoimport function.\n",
    "\n",
    "```\n",
    "mongoimport --db cities --collection madrid --file madrid_spain.osm.json\n",
    "```"
   ]
  },
  {
   "cell_type": "markdown",
   "metadata": {},
   "source": [
    "## Data overview\n",
    "\n",
    "This section contains basisc statistics about the dataset and the MongoDB database.\n",
    "\n",
    "Size of the files:\n",
    "\n",
    "- madrid_spain.osm : 858MB \n",
    "- madrid_spain.osm.json : 962MB \n",
    "- Number of documents in the database: 4,498,329\n",
    "\n",
    "Data realted to the users:\n",
    "\n",
    "- number of unique users: 2579\n",
    "\n",
    "### Unique users\n",
    "\n",
    "We can see how many user have contributed to this dataset and which are the most actives ones:"
   ]
  },
  {
   "cell_type": "code",
   "execution_count": 2,
   "metadata": {
    "collapsed": false
   },
   "outputs": [
    {
     "name": "stdout",
     "output_type": "stream",
     "text": [
      "2579\n"
     ]
    }
   ],
   "source": [
    "def get_db(db_name):\n",
    "    from pymongo import MongoClient\n",
    "    client = MongoClient('localhost:27017')\n",
    "    db = client[db_name]\n",
    "    return db\n",
    "db_madrid = get_db(\"cities\").madrid\n",
    "pprint.pprint(len(db_madrid.distinct(\"created.uid\")))"
   ]
  },
  {
   "cell_type": "markdown",
   "metadata": {},
   "source": [
    "### Number of documents"
   ]
  },
  {
   "cell_type": "code",
   "execution_count": 3,
   "metadata": {
    "collapsed": false
   },
   "outputs": [
    {
     "name": "stdout",
     "output_type": "stream",
     "text": [
      "4498329\n"
     ]
    }
   ],
   "source": [
    "pprint.pprint(db_madrid.find().count())"
   ]
  },
  {
   "cell_type": "markdown",
   "metadata": {},
   "source": [
    "### Number of nodes\n",
    "We can observe that this is the main kind of document accounting for 89% of the total documents in the database."
   ]
  },
  {
   "cell_type": "code",
   "execution_count": 4,
   "metadata": {
    "collapsed": false
   },
   "outputs": [
    {
     "name": "stdout",
     "output_type": "stream",
     "text": [
      "3993760\n"
     ]
    }
   ],
   "source": [
    "pprint.pprint(db_madrid.find({\"type\":\"node\"}).count())"
   ]
  },
  {
   "cell_type": "markdown",
   "metadata": {},
   "source": [
    "### Number of ways"
   ]
  },
  {
   "cell_type": "code",
   "execution_count": 5,
   "metadata": {
    "collapsed": false
   },
   "outputs": [
    {
     "name": "stdout",
     "output_type": "stream",
     "text": [
      "504110\n"
     ]
    }
   ],
   "source": [
    "pprint.pprint(db_madrid.find({\"type\":\"way\"}).count())"
   ]
  },
  {
   "cell_type": "markdown",
   "metadata": {},
   "source": [
    "### Top postcodes "
   ]
  },
  {
   "cell_type": "code",
   "execution_count": 6,
   "metadata": {
    "collapsed": false,
    "scrolled": false
   },
   "outputs": [
    {
     "name": "stdout",
     "output_type": "stream",
     "text": [
      "[{u'_id': [u'28330', u'28'], u'count': 5252},\n",
      " {u'_id': [u'28300', u'28'], u'count': 3968},\n",
      " {u'_id': [u'28017', u'28'], u'count': 3531},\n",
      " {u'_id': [u'28970', u'28'], u'count': 3135},\n",
      " {u'_id': [u'28830', u'28'], u'count': 2709}]\n"
     ]
    }
   ],
   "source": [
    "result = [doc for doc in db_madrid.aggregate([{\"$match\":\n",
    "                                               {\"address.postcode\":{\"$exists\":1}}}, \n",
    "                                       {\"$group\":{\"_id\":\"$address.postcode\", \n",
    "                                                  \"count\":{\"$sum\":1}}}, \n",
    "                                       {\"$sort\":{\"count\":-1}},{\"$limit\":5}])]\n",
    "pprint.pprint(result)"
   ]
  },
  {
   "cell_type": "markdown",
   "metadata": {},
   "source": [
    "From the results above we can see that the postcode 28330 is the one with more nodes identified, it we take a look at the area in the map we can observe that this is a big but rather unpopulated area in the outskirts of Madrid.\n",
    "\n",
    "![28330 postcode area](area28330.png)\n",
    "\n",
    "So how is that this postcode is so popular in our database? maybe a very active user lives there. So we can list the users that populate nodes in that area. From this query we can see that most of the records in this area (95%) have been created by the user 3196761. \n",
    "\n",
    "Thanks to that user this area is well populated."
   ]
  },
  {
   "cell_type": "code",
   "execution_count": 7,
   "metadata": {
    "collapsed": false
   },
   "outputs": [
    {
     "name": "stdout",
     "output_type": "stream",
     "text": [
      "[{u'_id': u'3196761', u'count': 4992}, {u'_id': u'2240612', u'count': 260}]\n"
     ]
    }
   ],
   "source": [
    "result = [doc for doc in db_madrid.aggregate([{\"$match\":{\"address.postcode\":'28330',\n",
    "                                                         \"created.uid\":{\"$exists\":1}}}, \n",
    "                                       {\"$group\":{\"_id\":\"$created.uid\", \n",
    "                                                  \"count\":{\"$sum\":1}}}, \n",
    "                                       {\"$sort\":{\"count\":-1}}])]\n",
    "pprint.pprint(result)"
   ]
  },
  {
   "cell_type": "markdown",
   "metadata": {},
   "source": [
    "### Number of documents with an street field"
   ]
  },
  {
   "cell_type": "code",
   "execution_count": 8,
   "metadata": {
    "collapsed": false
   },
   "outputs": [
    {
     "name": "stdout",
     "output_type": "stream",
     "text": [
      "67757\n"
     ]
    }
   ],
   "source": [
    "pprint.pprint(db_madrid.find({\"address.street\":{\"$exists\":1}}).count())"
   ]
  },
  {
   "cell_type": "markdown",
   "metadata": {},
   "source": [
    "### Number of adresses with no postcode or invalid one"
   ]
  },
  {
   "cell_type": "code",
   "execution_count": 9,
   "metadata": {
    "collapsed": false
   },
   "outputs": [
    {
     "name": "stdout",
     "output_type": "stream",
     "text": [
      "15268\n"
     ]
    }
   ],
   "source": [
    "result = [doc for doc in db_madrid.aggregate([{\"$match\":{\"address.street\":{\"$exists\":1}}}, \n",
    "                                       {\"$group\":{\"_id\":\"$address.postcode\", \n",
    "                                                  \"count\":{\"$sum\":1}}}, \n",
    "                                       {\"$match\":{\"_id\":None}}])]\n",
    "pprint.pprint(result[0][\"count\"])"
   ]
  },
  {
   "cell_type": "markdown",
   "metadata": {},
   "source": [
    "### Most popular amenities"
   ]
  },
  {
   "cell_type": "code",
   "execution_count": 10,
   "metadata": {
    "collapsed": false
   },
   "outputs": [
    {
     "name": "stdout",
     "output_type": "stream",
     "text": [
      "[{u'_id': u'parking', u'count': 5513},\n",
      " {u'_id': u'restaurant', u'count': 3715},\n",
      " {u'_id': u'school', u'count': 3316},\n",
      " {u'_id': u'pharmacy', u'count': 2229},\n",
      " {u'_id': u'drinking_water', u'count': 2225}]\n"
     ]
    }
   ],
   "source": [
    "result = [doc for doc in db_madrid.aggregate([{\"$match\":{\"amenity\":{\"$exists\":1}}}, \n",
    "                                       {\"$group\":{\"_id\":\"$amenity\", \n",
    "                                                  \"count\":{\"$sum\":1}}}, \n",
    "                                       {\"$sort\":{\"count\":-1}},{\"$limit\":5}])]\n",
    "pprint.pprint(result)"
   ]
  },
  {
   "cell_type": "markdown",
   "metadata": {},
   "source": [
    "### Most popular leisures"
   ]
  },
  {
   "cell_type": "code",
   "execution_count": 11,
   "metadata": {
    "collapsed": false
   },
   "outputs": [
    {
     "name": "stdout",
     "output_type": "stream",
     "text": [
      "[{u'_id': u'garden', u'count': 8180},\n",
      " {u'_id': u'pitch', u'count': 6302},\n",
      " {u'_id': u'swimming_pool', u'count': 5542},\n",
      " {u'_id': u'park', u'count': 3507},\n",
      " {u'_id': u'playground', u'count': 2029}]\n"
     ]
    }
   ],
   "source": [
    "result = [doc for doc in db_madrid.aggregate([{\"$match\":{\"leisure\":{\"$exists\":1}}}, \n",
    "                                       {\"$group\":{\"_id\":\"$leisure\", \n",
    "                                                  \"count\":{\"$sum\":1}}}, \n",
    "                                       {\"$sort\":{\"count\":-1}},\n",
    "                                       {\"$limit\":5}])]\n",
    "pprint.pprint(result)"
   ]
  },
  {
   "cell_type": "markdown",
   "metadata": {},
   "source": [
    "### Street of type \"calle\""
   ]
  },
  {
   "cell_type": "code",
   "execution_count": 12,
   "metadata": {
    "collapsed": false
   },
   "outputs": [
    {
     "name": "stdout",
     "output_type": "stream",
     "text": [
      "57009\n"
     ]
    }
   ],
   "source": [
    "result = [doc for doc in db_madrid.aggregate([\n",
    "                                      {\"$match\":{\"address.street\":\n",
    "                                                 {\"$exists\":1, \n",
    "                                                  \"$regex\": '^Calle'}}},\n",
    "                                      {\"$group\":{\"_id\":\"Calle\", \n",
    "                                                 \"count\":{\"$sum\":1}}},\n",
    "                                      {\"$sort\":{\"count\":1}}])]\n",
    "pprint.pprint(result[0][\"count\"])"
   ]
  },
  {
   "cell_type": "markdown",
   "metadata": {},
   "source": [
    "### Most active users\n",
    "\n",
    "We can observer that the most active user accounts for the 10% of all the contributions."
   ]
  },
  {
   "cell_type": "code",
   "execution_count": 13,
   "metadata": {
    "collapsed": false
   },
   "outputs": [
    {
     "name": "stdout",
     "output_type": "stream",
     "text": [
      "[{u'_id': u'718437', u'count': 452285, u'name': [u'carlosz22']},\n",
      " {u'_id': u'468314', u'count': 350368, u'name': [u'rafaerti']},\n",
      " {u'_id': u'2245342', u'count': 260589, u'name': [u'cirdancarpintero']},\n",
      " {u'_id': u'777223', u'count': 194528, u'name': [u'Serfuen']},\n",
      " {u'_id': u'491515', u'count': 162791, u'name': [u'robertogeb']}]\n"
     ]
    }
   ],
   "source": [
    "result = [doc for doc in db_madrid.aggregate([{\"$match\":{\"created.uid\":{\"$exists\":1}}},\n",
    "                                      {\"$group\":{\"_id\":\"$created.uid\", \n",
    "                                                 \"name\": {\"$addToSet\":\"$created.user\"},\n",
    "                                                 \"count\":{\"$sum\":1}}},\n",
    "                                      {\"$sort\":{\"count\":-1}},\n",
    "                                      {\"$limit\":5}])]\n",
    "pprint.pprint(result)"
   ]
  },
  {
   "cell_type": "markdown",
   "metadata": {},
   "source": [
    "We can see in the following histogram how users are distributed for those with less than 100 contributions."
   ]
  },
  {
   "cell_type": "code",
   "execution_count": 14,
   "metadata": {
    "collapsed": false
   },
   "outputs": [
    {
     "data": {
      "image/png": "[encoded data removed]",
      "text/plain": [
       "<matplotlib.figure.Figure at 0x1147befd0>"
      ]
     },
     "metadata": {},
     "output_type": "display_data"
    }
   ],
   "source": [
    "result = [doc for doc in db_madrid.aggregate([{\"$match\":{\"created.uid\":{\"$exists\":1}}},\n",
    "                                      {\"$group\":{\"_id\":\"$created.uid\", \n",
    "                                                 \"name\": {\"$addToSet\":\"$created.user\"},\n",
    "                                                 \"count\":{\"$sum\":1}}},\n",
    "                                      {\"$match\":{\"count\":{\"$lt\":100}}},\n",
    "                                      {\"$sort\":{\"count\":-1}}])]\n",
    "y = [x[\"count\"] for x in result]\n",
    "plt.hist( y,100)\n",
    "plt.title(\"User contributions\")\n",
    "plt.xlabel('Number of contributions')\n",
    "plt.ylabel('Number of users')\n",
    "plt.show()"
   ]
  },
  {
   "cell_type": "markdown",
   "metadata": {},
   "source": [
    "### Number of green spaces"
   ]
  },
  {
   "cell_type": "code",
   "execution_count": 15,
   "metadata": {
    "collapsed": false
   },
   "outputs": [
    {
     "name": "stdout",
     "output_type": "stream",
     "text": [
      "11697\n"
     ]
    }
   ],
   "source": [
    "result =  db_madrid.find({\"leisure\":\n",
    "                          {\"$in\":[\"park\",\"natural_reserve\",\"garden\"]}}).count()\n",
    "pprint.pprint(result)"
   ]
  },
  {
   "cell_type": "markdown",
   "metadata": {},
   "source": [
    "## Additional ideas\n",
    "\n",
    "In this dataset the address field uses the spanish labeling whereas most leisure data use english, it would be interesting to use a common language e.g. English. However, programmatic translations are not an easy task and can lead to other errors, especially when different languages are used in a same dataset where false friend may cause tranlation errors for example.\n",
    "\n",
    "It would also be interesting to assess the closeness of some nodes to others for example, which bars are within 200m of a park? but this kind of queries are not stright forward to perform using MongoDB or an SQL database, maybe a graph database may help in this task.\n",
    "\n",
    "Also wrong postcodes could be corrected using the address in order to obtain the postcode using a third party API that relates addresses with postcodes.\n",
    "\n",
    "From the analysis of the contributions in the postcode 28330 area we can see how important are active users in order to have quality data in an area. One question that can arise from this observation is to quantify the quality of the data provided by the users. for e.g. we can ask,  which users provide postcodes in their inputs? As in the query below, and we can observed that although the top contributor remains 'carlosz22' we can see that 'JavierSp' is now second, this is the user that contributed to the postcode 28330 area. a further analysis could be to see how the users contribute to different areas for example using the postcodes as references.\n"
   ]
  },
  {
   "cell_type": "code",
   "execution_count": 16,
   "metadata": {
    "collapsed": false
   },
   "outputs": [
    {
     "name": "stdout",
     "output_type": "stream",
     "text": [
      "[{u'_id': u'718437', u'count': 8454},\n",
      " {u'_id': u'3196761', u'count': 4995},\n",
      " {u'_id': u'1334676', u'count': 3785},\n",
      " {u'_id': u'2277975', u'count': 3655},\n",
      " {u'_id': u'777223', u'count': 3232}]\n"
     ]
    }
   ],
   "source": [
    "result = [doc for doc in db_madrid.aggregate([{\"$match\":{\"created.uid\":\n",
    "                                                            {\"$exists\":1},\n",
    "                                                         \"address.postcode\":\n",
    "                                                            {\"$exists\":1}}},\n",
    "                                      {\"$group\":{\"_id\":\"$created.uid\",\n",
    "                                                 \"count\":{\"$sum\":1}}},\n",
    "                                      {\"$sort\":{\"count\":-1}},\n",
    "                                      {\"$limit\":5}])]\n",
    "pprint.pprint(result)"
   ]
  },
  {
   "cell_type": "markdown",
   "metadata": {},
   "source": [
    "Another question we could make is to see who are the contributors that have set more number of different postcodes. i.e the contributors to more different areas in Madrid. We can see that the top user in this list has contributed to more than 100 areas, a great traveller."
   ]
  },
  {
   "cell_type": "code",
   "execution_count": 17,
   "metadata": {
    "collapsed": false
   },
   "outputs": [
    {
     "name": "stdout",
     "output_type": "stream",
     "text": [
      "[{u'_id': u'220932', u'count': 101},\n",
      " {u'_id': u'316694', u'count': 77},\n",
      " {u'_id': u'2153421', u'count': 70},\n",
      " {u'_id': u'26599', u'count': 64},\n",
      " {u'_id': u'42055', u'count': 57}]\n"
     ]
    }
   ],
   "source": [
    "result = [doc for doc in db_madrid.aggregate([\n",
    "                                      {\"$match\":{\"created.uid\":{\"$exists\":1},\n",
    "                                                 \"address.postcode\":{\"$exists\":1}}},\n",
    "                                      {\"$group\":{\"_id\":\"$created.uid\", \n",
    "                                                 \"postcodes\":\n",
    "                                                    {\"$addToSet\":\"$address.postcode\"},\n",
    "                                                 \"count\":{\"$sum\":1}}},\n",
    "                                      {\"$unwind\":\"$postcodes\"},\n",
    "                                      {\"$group\":{\"_id\":\"$_id\",\"count\":{\"$sum\":1}}},\n",
    "                                      {\"$sort\":{\"count\":-1}},\n",
    "                                      {\"$limit\":5}])]\n",
    "pprint.pprint(result)"
   ]
  },
  {
   "cell_type": "markdown",
   "metadata": {},
   "source": [
    "It can be interest to see how different areas compare, for example we can which areas have more restaurants. However it should be taken into account thath not all areas are equal in size. and that some areas might not be well populated with data."
   ]
  },
  {
   "cell_type": "code",
   "execution_count": 18,
   "metadata": {
    "collapsed": false
   },
   "outputs": [
    {
     "name": "stdout",
     "output_type": "stream",
     "text": [
      "[{u'_id': [u'28004', u'28'], u'count': 219},\n",
      " {u'_id': [u'28013', u'28'], u'count': 192},\n",
      " {u'_id': [u'28015', u'28'], u'count': 139},\n",
      " {u'_id': [u'28012', u'28'], u'count': 111},\n",
      " {u'_id': [u'28005', u'28'], u'count': 71}]\n"
     ]
    }
   ],
   "source": [
    "result = [doc for doc in db_madrid.aggregate([{\"$match\":\n",
    "                                                  {\"amenity\":\"restaurant\",\n",
    "                                                   \"address.postcode\":{\"$exists\":1}}}, \n",
    "                                       {\"$group\":{\"_id\":\"$address.postcode\", \n",
    "                                                  \"count\":{\"$sum\":1}}}, \n",
    "                                       {\"$sort\":{\"count\":-1}},{\"$limit\":5}])]\n",
    "pprint.pprint(result)"
   ]
  },
  {
   "cell_type": "markdown",
   "metadata": {},
   "source": [
    "Another interesting analysis would be to compare the different top amenities in difference places, for example how the number of schools compare between different cities, etc.. This will imply a very large dataset and take into account other data in order to normalize the values e.g. schools per person."
   ]
  },
  {
   "cell_type": "markdown",
   "metadata": {
    "collapsed": true
   },
   "source": [
    "## Conclusion\n",
    "\n",
    "After the review of the dataset it is clear that there are typos in the manual inputs even for postcodes that are easy to validate during the input phase, maybe it would be nice to have some schema and field validation when users incorporate data into the OSM dataset. \n",
    "\n",
    "Furthermore, we can see that the language may impact the dataset as some fields tend to be filled in the local language whereas others such as the kind of leisure tend to be filled in english although it is not always the case and some field have mixed inputs which may difficult querying the database for users not familiar with the local language.\n",
    "\n",
    "Finally, we can see that some areas are more complete and this seems to be highly related to the active users in that area, so it would be nice to have a way to incentivate or recompensate more active users, for example with badgets or lists of top users. This is important because the quality of the data depends directly on the users.\n",
    "\n"
   ]
  }
 ],
 "metadata": {
  "kernelspec": {
   "display_name": "Python 2",
   "language": "python",
   "name": "python2"
  },
  "language_info": {
   "codemirror_mode": {
    "name": "ipython",
    "version": 2
   },
   "file_extension": ".py",
   "mimetype": "text/x-python",
   "name": "python",
   "nbconvert_exporter": "python",
   "pygments_lexer": "ipython2",
   "version": "2.7.12"
  }
 },
 "nbformat": 4,
 "nbformat_minor": 0
}
