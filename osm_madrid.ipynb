{
 "cells": [
  {
   "cell_type": "code",
   "execution_count": 1,
   "metadata": {
    "collapsed": true
   },
   "outputs": [],
   "source": [
    "#!/usr/bin/env python\n",
    "# -*- coding: utf-8 -*-\n",
    "%matplotlib inline\n",
    "import xml.etree.ElementTree as ET\n",
    "import re\n",
    "import pprint\n",
    "import unicodedata\n",
    "import codecs\n",
    "import json\n",
    "from collections import defaultdict\n",
    "# for plotting\n",
    "import matplotlib.pyplot as plt\n",
    "from matplotlib.legend_handler import HandlerLine2D\n",
    "import seaborn as sns\n"
   ]
  },
  {
   "cell_type": "markdown",
   "metadata": {},
   "source": [
    "# Mongo DB data wrangling\n",
    "\n",
    "In this document we are going to analyse the OSM dataset for Madrid , the dataset has been downloaded from :\n",
    "\n",
    "https://mapzen.com/data/metro-extracts/metro/madrid_spain/101748283/Madrid/\n",
    "\n",
    "Madrid is my home town so the spotting errors in the dataset should be easier. The dataset covers the whole province of Madrid but as it is defined as an square area in also includes some features of the neighbour provinces which are:\n",
    "\n",
    "- Toledo\n",
    "- Avila\n",
    "- Segovia\n",
    "- Guadalajara\n",
    "- Cuenca\n",
    "\n",
    "We need to take this into account when analysing the dataset.\n",
    "\n",
    "![img](map.png)\n",
    "\n",
    "For this analysis I have choose MongoDB as the database. \n",
    "\n",
    "## Problems encountered in the map\n",
    "\n",
    "After generating a reduced dataset with a 10th of the records.We proceed with the initial assessment of the data using a reduced dataset, the following fields have been analysed:\n",
    "\n",
    "- street names\n",
    "- leisures\n",
    "- amenities\n",
    "- postal codes\n",
    "\n",
    "We haved generated a sample file with a 10th of the values for the data wrangling analysis usgin the following script:\n",
    "\n",
    "create_sample_from_osm.py\n",
    "\n",
    "this script will also generate a sample with a 100th of the data more suitable for upload.\n",
    "\n",
    "Based on this analysis some filtering or cleaning functions will be generated in order to clean the error encountered in the data.\n"
   ]
  },
  {
   "cell_type": "markdown",
   "metadata": {},
   "source": [
    "### Street names\n",
    "\n",
    "First we are going to clean the street names, so we will modify street abbreviations into the full name in order to have consistent street definitions across the dataset. We have to take into account that in spanish, contrary to english, the type of street is the first word. Finally we will use lower case in order to simplify the analysis.\n",
    "\n",
    "We can find both abbreviations such as:\n",
    "- Av and Avd instead of Avenida (Avenue)\n",
    "- Pz instead of Plaza (Square)\n",
    "\n",
    "and typos such as:\n",
    "- 'Call' instead of 'calle' (street)\n",
    "- 'carrera' instead of 'carretera' (Road), however \"carrera\" is a valid street type, this kind of errors can be easily missed, two of these cases have been found : 'CARRERA': set([u'CARRERA CARRETERA DE CRI\\xd1ON, S/N', 'CARRERA VALENCIA, KM 14.800'])})\n",
    "\n",
    "Spanish roads use a common nomenclarture : a set of letters followed by a number e.g. A-6 M-604, we can match these entries using a regexp and add them to the type \"carretera\" (road). Assuming that we are using lowercase name we can use the folloing regexp\n",
    "\n",
    "```\n",
    "    /[a-z]+\\-[0-9]+/\n",
    "```\n",
    "\n",
    "Some fields are preceded by \"CL\" and then a valid address type, in these cases whe should remove the leading \"CL\". e.g. \"CL AVENIDA\" should be \"avenida\" (avenue).\n",
    "\n",
    "The most common error is the use of streets names withouth the street identifier, so we will by default add street and the begining of these entries.\n",
    "\n",
    "Next we found that C.N.-603-MARGEN should be \"carretera n-603\". Therefore we will change \"C.N.\" into \"carretera n-\"\n",
    "\n",
    "Another problem found was the presence of accented words, so in order to simplify the further analysis we will remove the accents of the words. e.g. we will use \"travesia\" instead of the gramatically correct \"travesía\", as this will simplify our database handling as well as filtering some errors in the inputs.\n"
   ]
  },
  {
   "cell_type": "code",
   "execution_count": 2,
   "metadata": {
    "collapsed": false
   },
   "outputs": [
    {
     "name": "stdout",
     "output_type": "stream",
     "text": [
      "{'A-6': set(['A-6 KM 25.5']),\n",
      " 'AVDA': set(['AVDA DEL VALLE 36 (CRTA M 604 KM 24.100)',\n",
      "              u'AVDA. DEL ANTIG\\xdcO FERROCARRIL, N\\xba 1',\n",
      "              'AVDA. PUERTA DE MADRID']),\n",
      " 'Albert': set(['Albert Amon']),\n",
      " 'Antonio': set(['Antonio Buero Vallejo']),\n",
      " u'Auditorio': set([u'Auditorio Sebasti\\xe1n Cesteros']),\n",
      " u'Autov\\xeda': set([u'Autov\\xeda de Toledo', u'Autov\\xeda de Toledo A-42']),\n",
      " 'Av': set(['Av. del Doce de Octubre']),\n",
      " 'Avda': set(['Avda de Covibar']),\n",
      " 'Bajada': set(['Bajada de San Juan de los Reyes']),\n",
      " 'Barrio': set(['Barrio de San Luis']),\n",
      " u'C': set([u'C/ Jos\\xe9 Bergam\\xedn']),\n",
      " 'C.N.-603-MARGEN': set(['C.N.-603-MARGEN DERECHO km 93.60000']),\n",
      " 'CARRERA': set([u'CARRERA CARRETERA DE CRI\\xd1ON, S/N',\n",
      "                 'CARRERA VALENCIA, KM 14.800']),\n",
      " 'CL': set(['CL AVDA. S. MARTIN DE VALDEIGLE, S. (M-501 KM 0.3)',\n",
      "            'CL AVENIDA CASTILLA LA MANCHA, 79 (N-401 KM 35.5)',\n",
      "            'CL CARRETERA ARANJUEZ ,56 (CR M-305 (M-305 KM 19.8)']),\n",
      " 'CL-605': set(['CL-605 km 1']),\n",
      " 'CM-4001': set(['CM-4001']),\n",
      " 'CR': set(['CR A-2, 45,6',\n",
      "            'CR CM-401, 9,2 M.D.',\n",
      "            'CR M-103, 23,5',\n",
      "            'CR M-406 , P.K. 7,3',\n",
      "            'CR N-400, 56,8']),\n",
      " 'CTRA': set(['CTRA. 607 (DE COLMENAR A NAVACERRADA) KM 48.2',\n",
      "              'CTRA. BURGOS']),\n",
      " 'Call': set(['Call de la Hermandad de Donantes Sangre']),\n",
      " u'Calleja/Callej\\xef\\xbf\\xbd\\xef\\xbf\\xbdn': set([u'Calleja/Callej\\xef\\xbf\\xbd\\xef\\xbf\\xbdn Callejon-alpedrete']),\n",
      " u'Callej\\xf3n': set([u'Callej\\xf3n Eras',\n",
      "                      u'Callej\\xf3n G\\xf3mez Acebo',\n",
      "                      u'Callej\\xf3n de Murcia',\n",
      "                      u'Callej\\xf3n del Molino']),\n",
      " 'Calvario': set(['Calvario']),\n",
      " u'Carrera': set([u'Carrera de San Jer\\xf3nimo']),\n",
      " 'Castiello': set(['Castiello De Jaca']),\n",
      " 'Corredera': set(['Corredera Alta de San Pablo',\n",
      "                   'Corredera Baja de San Pablo']),\n",
      " 'Cristo': set(['Cristo del Pardo']),\n",
      " 'Ctra': set(['Ctra. N-601', u'Ctra. de la Coru\\xf1a']),\n",
      " 'Cuesta': set(['Cuesta de Carlos V',\n",
      "                'Cuesta de San Vicente',\n",
      "                'Cuesta de Santo Domingo',\n",
      "                u'Cuesta del Alc\\xe1zar']),\n",
      " 'Diseminados': set(['Diseminados Diseminados', 'Diseminados Pingarron']),\n",
      " 'Donantes': set(['Donantes de Sangre']),\n",
      " 'Elfo': set(['Elfo']),\n",
      " 'Ermita': set(['Ermita del Santo']),\n",
      " u'Gavil\\xe1n': set([u'Gavil\\xe1n\\n']),\n",
      " 'Ginebra': set(['Ginebra']),\n",
      " u'Gran': set([u'Gran V\\xeda', u'Gran V\\xeda de San Francisco']),\n",
      " 'IES': set(['IES Sapere Aude']),\n",
      " 'Isla': set(['Isla de Tavira']),\n",
      " u'Jos': set([u'Jos\\xe9 Echegaray']),\n",
      " 'Kalamos': set(['Kalamos']),\n",
      " u'Leopoldo': set([u'Leopoldo Alas \"Clar\\xedn\"']),\n",
      " 'Martin': set(['Martin Iriarte']),\n",
      " u'Miguel': set([u'Miguel \\xc1ngel', u'Miguel \\xc1ngel Asturias']),\n",
      " 'Octavio': set(['Octavio Paz']),\n",
      " 'Palos': set(['Palos de la Frontera']),\n",
      " 'Parque': set(['Parque Europa']),\n",
      " 'Pasaje/Pasadizo': set(['Pasaje/Pasadizo Carlos V',\n",
      "                         'Pasaje/Pasadizo Cervantes',\n",
      "                         'Pasaje/Pasadizo Felipe Ii',\n",
      "                         'Pasaje/Pasadizo Gabriel Y Galan',\n",
      "                         'Pasaje/Pasadizo Perales',\n",
      "                         'Pasaje/Pasadizo San Antonio',\n",
      "                         'Pasaje/Pasadizo Soledad',\n",
      "                         'Pasaje/Pasadizo Vega']),\n",
      " 'Pinos': set(['Pinos Alta']),\n",
      " 'Pintor': set(['Pintor Murillo', 'Pintor Velazquez']),\n",
      " 'Plazuela': set(['Plazuela Antonio Vega']),\n",
      " u'Pol\\xef\\xbf\\xbd\\xef\\xbf\\xbdgono': set([u'Pol\\xef\\xbf\\xbd\\xef\\xbf\\xbdgono Vpv.016.pt.ciudad Ocio']),\n",
      " 'Pz': set(['Pz San Antonio de la Florida']),\n",
      " 'RS': set(['RS San Martin']),\n",
      " 'Rcda': set([u'Rcda Bernaldo de Quir\\xf3s', 'Rcda San Francisco']),\n",
      " 'Samaniego': set(['Samaniego']),\n",
      " 'San': set(['San Bernardino']),\n",
      " u'Sector': set(['Sector Caraquiz', u'Sector Fray Jos\\xe9 de Almonacid']),\n",
      " 'Septiembre': set(['Septiembre']),\n",
      " 'Severo': set(['Severo Ochoa']),\n",
      " 'Sierra': set(['Sierra Morena']),\n",
      " 'Silvano': set(['Silvano']),\n",
      " u'Sor': set([u'Sor Juana In\\xe9s de la Cruz']),\n",
      " 'Torquemada': set(['Torquemada']),\n",
      " u'Traves\\xeda': set([u'Traves\\xeda Doctor Manuel Hidalgo Huerta',\n",
      "                      u'Traves\\xeda Estrella',\n",
      "                      u'Traves\\xeda Fuente Cisneros',\n",
      "                      u'Traves\\xeda Lope de Figueroa',\n",
      "                      u'Traves\\xeda L\\xf3pez de Aranda',\n",
      "                      u'Traves\\xeda Mar\\xeda Juana',\n",
      "                      u'Traves\\xeda Primera',\n",
      "                      u'Traves\\xeda Real',\n",
      "                      u'Traves\\xeda Segunda',\n",
      "                      u'Traves\\xeda Virgen de Montserrat',\n",
      "                      u'Traves\\xeda V\\xe1zquez de Mella',\n",
      "                      u'Traves\\xeda de Bachilleres',\n",
      "                      u'Traves\\xeda de Bellver',\n",
      "                      u'Traves\\xeda de Extremadura',\n",
      "                      u'Traves\\xeda de Jos\\xe9 Luis de Arrese',\n",
      "                      u'Traves\\xeda de Jos\\xe9 Noriega',\n",
      "                      u'Traves\\xeda de Juan del Campo',\n",
      "                      u'Traves\\xeda de La Sal',\n",
      "                      u'Traves\\xeda de Le\\xf3n Felipe',\n",
      "                      u'Traves\\xeda de Madrid',\n",
      "                      u'Traves\\xeda de Mar\\xeda Zayas',\n",
      "                      u'Traves\\xeda de Navaluenga',\n",
      "                      u'Traves\\xeda de Pinto',\n",
      "                      u'Traves\\xeda de San Isidoro de Sevilla',\n",
      "                      u'Traves\\xeda de San Mateo',\n",
      "                      u'Traves\\xeda de Villaescusa',\n",
      "                      u'Traves\\xeda de la Arena',\n",
      "                      u'Traves\\xeda de la Cruz',\n",
      "                      u'Traves\\xeda de la Encinilla',\n",
      "                      u'Traves\\xeda de la Iglesia',\n",
      "                      u'Traves\\xeda de la Ribera',\n",
      "                      u'Traves\\xeda de la Tejera',\n",
      "                      u'Traves\\xeda de la Varguilla',\n",
      "                      u'Traves\\xeda de las Vistillas',\n",
      "                      u'Traves\\xeda de los Cabestreros',\n",
      "                      u'Traves\\xeda de los Robles',\n",
      "                      u'Traves\\xeda de los Trujillos',\n",
      "                      u'Traves\\xeda del Curtidor',\n",
      "                      u'Traves\\xeda del Fresno',\n",
      "                      u'Traves\\xeda del Molino',\n",
      "                      u'Traves\\xeda del Reloj',\n",
      "                      u'Traves\\xeda del Rosal']),\n",
      " u'Tur\\xedn': set([u'Tur\\xedn']),\n",
      " 'Urb': set(['Urb. Bellavista', 'Urb. ParqueSierra']),\n",
      " u'Urbanizaci\\xf3n': set([u'Urbanizaci\\xf3n Gran H\\xe1bitat',\n",
      "                          u'Urbanizaci\\xf3n Los Enebros',\n",
      "                          u'Urbanizaci\\xf3n Montenebros II',\n",
      "                          u'Urbanizaci\\xf3n Nuevo Versalles',\n",
      "                          u'Urbanizaci\\xf3n Princialba',\n",
      "                          u'Urbanizaci\\xf3n Villalba 20']),\n",
      " 'Virgen': set(['Virgen de la Providencia']),\n",
      " u'callej\\xf3n': set([u'callej\\xf3n del Clavel'])}\n"
     ]
    }
   ],
   "source": [
    "SAMPLE_FILE = \"sample.osm\"\n",
    "\n",
    "street_type_re = re.compile(r'^\\S+(\\b|\\.)', re.IGNORECASE)\n",
    "\n",
    "expected_street_type = [\"calle\",\"avenida\",\"plaza\",\"paseo\",\"pasaje\",\"ronda\",\"travesia\",\n",
    "            \"costanilla\",\"callejon\",\"camino\",\"carretera\",\"bulevar\",\"autovia\",\n",
    "            \"rinconada\", \"glorieta\",\"urbanizacion\",\"senda\",\"poligono\",\"finca\"]\n",
    "\n",
    "def audit_street_type(street_types, street_name):\n",
    "    m = street_type_re.search(street_name)\n",
    "    if m:\n",
    "        street_type = m.group()\n",
    "        if street_type.lower() not in expected_street_type:\n",
    "            street_types[street_type].add(street_name)\n",
    "\n",
    "\n",
    "def is_street_name(elem):\n",
    "    return (elem.attrib['k'] == \"addr:street\")\n",
    "\n",
    "\n",
    "def audit(osmfile, is_type, audit_type , filter_fun = lambda x : x):\n",
    "    osm_file = open(osmfile, \"r\")\n",
    "    list_types = defaultdict(set)\n",
    "    leisure_types = defaultdict(set)\n",
    "    for event, elem in ET.iterparse(osm_file, events=(\"start\",)):\n",
    "        if elem.tag == \"node\" or elem.tag == \"way\":\n",
    "            for tag in elem.iter(\"tag\"):\n",
    "                if is_type(tag):\n",
    "                    # check that there is the required value element\n",
    "                    if not \"v\" in tag.attrib:\n",
    "                        print tag\n",
    "                    value = tag.attrib['v']\n",
    "                    audit_type(list_types, filter_fun(value)) \n",
    "    osm_file.close()\n",
    "    return list_types\n",
    "\n",
    "street_types = audit(SAMPLE_FILE,is_street_name,audit_street_type)\n",
    "\n",
    "pprint.pprint( dict(street_types))\n",
    "\n"
   ]
  },
  {
   "cell_type": "code",
   "execution_count": 3,
   "metadata": {
    "collapsed": false
   },
   "outputs": [],
   "source": [
    "# Filtering of the addreses\n",
    "mapping = { \"call\":\"calle\",\n",
    "            \"c/\":\"calle\",\n",
    "            \"ctra.\":\"carretera\",\n",
    "            \"cr\":\"carretera\",\n",
    "            \"calleja/callejon\":\"callejon\",\n",
    "            \"urb.\":\"urbanizacion\",\n",
    "            \"urb\":\"urbanizacion\",\n",
    "            \"Pz\":\"plaza\",\n",
    "            \"Pz.\":\"plaza\",\n",
    "            \"av\": \"Avenida\",\n",
    "            \"avd\": \"avenida\",\n",
    "            \"avd.\": \"avenida\",\n",
    "            \"pasaje/pasadizo\":\"pasaje\",\n",
    "            \"av.\": \"avenida\",\n",
    "            \"rcda.\":\"rinconada\",\n",
    "            \"CARRERA CARRETERA\":\"carretera\",\n",
    "            \"CARRERA VALENCIA\":\"carrera\"\n",
    "            }\n",
    "# this function return a function that updates a name based on the mappings input only for the first word\n",
    "def get_update_first_word_filter(mapping):\n",
    "    def update_name(name):\n",
    "        words = name.split()\n",
    "        if words[0] in mapping:\n",
    "            words[0] = mapping[words[0]]\n",
    "        name = \" \".join(words)\n",
    "        return name\n",
    "    return update_name\n",
    "\n",
    "def set_default_street(name):\n",
    "    words = name.split()\n",
    "    if words[0] not in expected_street_type:\n",
    "        name = \"calle \"+ name\n",
    "    return name\n",
    "\n",
    "# remove accent function, obtained from stackoverflow \n",
    "# http://stackoverflow.com/questions/517923/what-is-the-best-way-to-remove-accents-in-a-python-unicode-string\n",
    "def strip_accents_filter(name):\n",
    "   name = unicode(name)\n",
    "   return ''.join(c for c in unicodedata.normalize('NFD', name) if unicodedata.category(c) != 'Mn')\n",
    "\n",
    "def lower_name_filter(name):\n",
    "    return name.lower()\n",
    "\n",
    "def remove_leading_CL_filter(name):\n",
    "    if name.startswith(\"CL \"):\n",
    "        name = name[3:]\n",
    "    return name\n",
    "\n",
    "def change_cr_filter(name):\n",
    "    if name.startswith(\"C.N.\"):\n",
    "        name = \"carretera n-\"+name[4:]\n",
    "    return name\n",
    "\n",
    "\n",
    "ROAD_RE = re.compile(r'[a-z]+\\-[0-9]+', re.IGNORECASE)\n",
    "\n",
    "def identify_road_filter(name):\n",
    "    if ROAD_RE.match(name):\n",
    "        name = \"carretera \"+name\n",
    "    return name\n",
    "    \n",
    "# this function applies a series of transformations or filters to an initial value\n",
    "def gen_apply_filters(filters):\n",
    "    def filter_function(value):\n",
    "        temp = value\n",
    "        for function in filters:\n",
    "            temp = function(temp)\n",
    "        return temp\n",
    "    return filter_function\n",
    "\n",
    "\n",
    "# build list of functions that we will apply to clean our street address\n",
    "FILTER_STREET = gen_apply_filters([remove_leading_CL_filter,change_cr_filter, \n",
    "                                  lower_name_filter, strip_accents_filter,\n",
    "                                  get_update_first_word_filter(mapping), set_default_street])\n",
    "\n"
   ]
  },
  {
   "cell_type": "markdown",
   "metadata": {},
   "source": [
    "### Leisures\n",
    "\n",
    "We want also to check for kind of leisures are available and clean those fields. As we would like to make queries related with the number of green places in the city.\n",
    "\n",
    "From the list above we can appreciate that there are no big issues in this list, for our purpouse we could consider both \"park\" and \"natural reserve\". We can observe that the entries for \"leisures\" are in english, but for the \"pista de cemento\" (cement pitch), fortunately this is not affecting our analysis so we are not going to modify these fields.\n",
    "\n",
    "Nevertheless, the fields can be considered to be uniquely identified either in spanish or english, so we can keep them as they are as there is not any kind of leisure that is described in both languages at the same time.\n"
   ]
  },
  {
   "cell_type": "code",
   "execution_count": 4,
   "metadata": {
    "collapsed": false
   },
   "outputs": [
    {
     "name": "stdout",
     "output_type": "stream",
     "text": [
      "{'bandstand': set(['bandstand']),\n",
      " 'casino': set(['casino']),\n",
      " 'common': set(['common']),\n",
      " 'dance': set(['dance']),\n",
      " 'dog_park': set(['dog_park']),\n",
      " 'dog_track': set(['dog_track']),\n",
      " 'fishing': set(['fishing']),\n",
      " 'fitness_station': set(['fitness_station']),\n",
      " 'garden': set(['garden']),\n",
      " 'golf_course': set(['golf_course']),\n",
      " 'marina': set(['marina']),\n",
      " 'miniature_golf': set(['miniature_golf']),\n",
      " 'music_venue': set(['music_venue']),\n",
      " 'nature_reserve': set(['nature_reserve']),\n",
      " 'picnic_table': set(['picnic_table']),\n",
      " 'pista de cemento': set(['pista de cemento']),\n",
      " 'pitch': set(['pitch']),\n",
      " 'playground': set(['playground']),\n",
      " 'recreation_ground': set(['recreation_ground']),\n",
      " 'sports_centre': set(['sports_centre']),\n",
      " 'stadium': set(['stadium']),\n",
      " 'swimming_pool': set(['swimming_pool']),\n",
      " 'track': set(['track'])}\n"
     ]
    }
   ],
   "source": [
    "expected_leisures = [\"park\",\"natural_reserve\"]\n",
    "\n",
    "def audit_leisure_type(leisure_types, leisure_name):\n",
    "    if leisure_name:\n",
    "        if leisure_name.lower() not in expected_leisures:\n",
    "            leisure_types[leisure_name].add(leisure_name)\n",
    "\n",
    "\n",
    "def is_leisure(elem):\n",
    "    return (elem.attrib['k'] == \"leisure\")\n",
    "\n",
    "leisure_types = audit(SAMPLE_FILE,is_leisure,audit_leisure_type)\n",
    "\n",
    "# show the types of leisures in the sample file\n",
    "pprint.pprint( dict(leisure_types))"
   ]
  },
  {
   "cell_type": "markdown",
   "metadata": {},
   "source": [
    "### Amenities\n",
    "\n",
    "We want also to check what kind of amenities are available and clean those fields.\n",
    "\n",
    "Unlike for leisures in amenities we can find that the same amenity is defined in some cases in spanish and some times in english, for example:\n",
    "\n",
    "- \"biblioteca\" and \"library\"\n",
    "- \"espacio_trabajo\" and \"coworking_space\"\n",
    "\n",
    "It is convenient to use an unique language for the amenities definitions. Therefore, we will translate these entries into english.\n"
   ]
  },
  {
   "cell_type": "code",
   "execution_count": 5,
   "metadata": {
    "collapsed": false
   },
   "outputs": [
    {
     "name": "stdout",
     "output_type": "stream",
     "text": [
      "[u'Fontaner\\xeda',\n",
      " 'Locutorio',\n",
      " 'arts_centre',\n",
      " 'atm',\n",
      " 'aula',\n",
      " 'bank',\n",
      " 'bar',\n",
      " 'bench',\n",
      " 'biblioteca',\n",
      " 'bicycle_parking',\n",
      " 'bicycle_rental',\n",
      " 'biergarten',\n",
      " 'brothel',\n",
      " 'bus_station',\n",
      " 'cafe',\n",
      " 'car_rental',\n",
      " 'car_wash',\n",
      " 'casino',\n",
      " 'childcare',\n",
      " 'cinema',\n",
      " 'clinic',\n",
      " 'college',\n",
      " 'common',\n",
      " 'community_centre',\n",
      " 'court_yard',\n",
      " 'courthouse',\n",
      " 'coworking_space',\n",
      " 'dentist',\n",
      " 'despacho',\n",
      " 'doctors',\n",
      " 'drinking_water',\n",
      " 'driving_school',\n",
      " 'embassy',\n",
      " 'espacio de trabajo',\n",
      " 'fast_food',\n",
      " 'fire_station',\n",
      " 'first_aid',\n",
      " 'food_court',\n",
      " 'fountain',\n",
      " 'fuel',\n",
      " 'gambling',\n",
      " 'garden',\n",
      " 'grave_yard',\n",
      " 'hospital',\n",
      " 'ice_cream',\n",
      " 'internet_cafe',\n",
      " 'kindergarten',\n",
      " 'language_school',\n",
      " 'library',\n",
      " 'marketplace',\n",
      " 'monastery',\n",
      " 'mortuary',\n",
      " 'motorcycle_parking',\n",
      " 'music_venue',\n",
      " 'nightclub',\n",
      " 'parking',\n",
      " 'parking_entrance',\n",
      " 'parking_space',\n",
      " 'pharmacy',\n",
      " 'photo_booth',\n",
      " 'place_of_worship',\n",
      " 'police',\n",
      " 'post_box',\n",
      " 'post_office',\n",
      " 'pub',\n",
      " 'public_bookcase',\n",
      " 'public_building',\n",
      " 'recycling',\n",
      " 'register',\n",
      " 'register_office',\n",
      " 'research_institution',\n",
      " 'restaurant',\n",
      " 'retirement_home',\n",
      " 'school',\n",
      " 'shelter',\n",
      " 'shop',\n",
      " 'shower',\n",
      " 'social_centre',\n",
      " 'social_facility',\n",
      " 'stripclub',\n",
      " 'studio',\n",
      " 'swimming_pool',\n",
      " 'taxi',\n",
      " 'telephone',\n",
      " 'theatre',\n",
      " 'toilets',\n",
      " 'townhall',\n",
      " 'university',\n",
      " 'vending_machine',\n",
      " 'veterinary',\n",
      " 'waste_basket',\n",
      " 'waste_disposal',\n",
      " 'waste_transfer_station',\n",
      " 'watering_place']\n"
     ]
    }
   ],
   "source": [
    "expected_amenities = []\n",
    "\n",
    "def audit_amenities_type(amenities_types, amenities_name):\n",
    "    if amenities_name:\n",
    "        if amenities_name.lower() not in expected_amenities:\n",
    "            amenities_types[amenities_name].add(amenities_name)\n",
    "\n",
    "\n",
    "def is_amenities(elem):\n",
    "    return (elem.attrib['k'] == \"amenity\")\n",
    "\n",
    "amenities_types = audit(SAMPLE_FILE,is_amenities,audit_amenities_type)\n",
    "\n",
    "# show the types of leisures\n",
    "pprint.pprint( sorted(amenities_types.keys()))"
   ]
  },
  {
   "cell_type": "code",
   "execution_count": 6,
   "metadata": {
    "collapsed": true
   },
   "outputs": [],
   "source": [
    "# Filtering of the addreses\n",
    "mapping_ammenity = { \"biblioteca\" :\"library\",\n",
    "            \"espacio_trabajo\" : \"coworking_space\"\n",
    "            }\n",
    "\n",
    "# build list of functions that we will apply to clean our street address\n",
    "FILTER_AMENITY = gen_apply_filters([get_update_first_word_filter(mapping_ammenity)])"
   ]
  },
  {
   "cell_type": "markdown",
   "metadata": {},
   "source": [
    "### Postal codes\n",
    "\n",
    "The postal codes in spain consist of 5 numbers, of which the 2 first depend on the provinces, as we have 6 provinces in opur dataset, we can find 6 sets of postal codes:\n",
    "\n",
    "- Madrid: 28XXX\n",
    "- Toledo: 45XXX\n",
    "- Avila: 05XXX\n",
    "- Segovia: 40XXX\n",
    "- Guadalajara: 19XXX\n",
    "- Cuenca: 16XXX\n",
    "\n",
    "Therefore we can build a regexp to filter those postal codes that do not match one of the above. Using this approach we can see that there are postal codes that have not been properly set, for instance using 4 or 6 digits, in other cases there is a letter in the postal code or an invalid separator such as \"-\".\n",
    "\n",
    "In order to have a clean dataset we will remove these entries."
   ]
  },
  {
   "cell_type": "code",
   "execution_count": 7,
   "metadata": {
    "collapsed": false
   },
   "outputs": [
    {
     "name": "stdout",
     "output_type": "stream",
     "text": [
      "Unexpected postcodes\n",
      "{'21-23': set(['21-23']),\n",
      " '2829': set(['2829']),\n",
      " '2839': set(['2839']),\n",
      " '288981': set(['288981']),\n",
      " '2945': set(['2945']),\n",
      " 'E28016': set(['E28016'])}\n"
     ]
    }
   ],
   "source": [
    "CP_RE = re.compile(\"^(28|45|05|40|19|16)[0-9]{3}$\")\n",
    "\n",
    "def audit_cp_type(cp_types, postcode):\n",
    "    if postcode:\n",
    "        if not CP_RE.match(postcode):\n",
    "            cp_types[postcode].add(postcode)\n",
    "\n",
    "\n",
    "def is_cp(elem):\n",
    "    return (elem.attrib['k'] == \"addr:postcode\")\n",
    "\n",
    "postcode_types = audit(SAMPLE_FILE,is_cp,audit_cp_type)\n",
    "\n",
    "# show the incorrect postcodes\n",
    "print(\"Unexpected postcodes\")\n",
    "pprint.pprint( dict(postcode_types))"
   ]
  },
  {
   "cell_type": "code",
   "execution_count": 8,
   "metadata": {
    "collapsed": true
   },
   "outputs": [],
   "source": [
    "# data cleaning function for postcode\n",
    "def remove_invalid_postcode(postcode):\n",
    "    if CP_RE.match(postcode):\n",
    "        return postcode\n",
    "    else:\n",
    "        return None\n",
    "\n",
    "FILTER_POSTCODE = gen_apply_filters([remove_invalid_postcode])"
   ]
  },
  {
   "cell_type": "markdown",
   "metadata": {},
   "source": [
    "Next, we are going to load our XML data into a more appropiate object representation that will be loaded into a JSON file in order to import it into the final mongoDB database. For this task we will use the python file create_json_from_osm.py , executing it from the command line."
   ]
  },
  {
   "cell_type": "markdown",
   "metadata": {},
   "source": [
    "### Load into Mongo DB\n",
    "\n",
    "We then import this dataset into mongodb using the mongoimport function.\n",
    "\n",
    "```\n",
    "mongoimport --db cities --collection madrid --file madrid_spain.osm.json\n",
    "```"
   ]
  },
  {
   "cell_type": "markdown",
   "metadata": {},
   "source": [
    "## Data overview\n",
    "\n",
    "This section contains basisc statistics about the dataset and the MongoDB database.\n",
    "\n",
    "Size of the files:\n",
    "\n",
    "- madrid_spain.osm : 858MB \n",
    "- madrid_spain.osm.json : 962MB \n",
    "- Number of documents in the database: 4,498,329\n",
    "\n",
    "Data realted to the users:\n",
    "\n",
    "- number of unique users: 2579\n",
    "\n",
    "### Unique users\n",
    "\n",
    "We can see how many user have contributed to this dataset and which are the most actives ones:"
   ]
  },
  {
   "cell_type": "code",
   "execution_count": 9,
   "metadata": {
    "collapsed": false
   },
   "outputs": [
    {
     "name": "stdout",
     "output_type": "stream",
     "text": [
      "2579\n"
     ]
    }
   ],
   "source": [
    "def get_db(db_name):\n",
    "    from pymongo import MongoClient\n",
    "    client = MongoClient('localhost:27017')\n",
    "    db = client[db_name]\n",
    "    return db\n",
    "\n",
    "db_madrid = get_db(\"cities\").madrid\n",
    "\n",
    "pprint.pprint(len(db_madrid.distinct(\"created.uid\")))"
   ]
  },
  {
   "cell_type": "markdown",
   "metadata": {},
   "source": [
    "### Number of documents"
   ]
  },
  {
   "cell_type": "code",
   "execution_count": 10,
   "metadata": {
    "collapsed": false
   },
   "outputs": [
    {
     "name": "stdout",
     "output_type": "stream",
     "text": [
      "4498329\n"
     ]
    }
   ],
   "source": [
    "result = db_madrid.find().count()\n",
    "pprint.pprint(result)"
   ]
  },
  {
   "cell_type": "markdown",
   "metadata": {},
   "source": [
    "### Number of nodes\n",
    "We can observe that this is the main kind of document accounting for 89% of the total documents in the database."
   ]
  },
  {
   "cell_type": "code",
   "execution_count": 11,
   "metadata": {
    "collapsed": false
   },
   "outputs": [
    {
     "name": "stdout",
     "output_type": "stream",
     "text": [
      "3993760\n"
     ]
    }
   ],
   "source": [
    "result = db_madrid.find({\"type\":\"node\"}).count()\n",
    "pprint.pprint(result)"
   ]
  },
  {
   "cell_type": "markdown",
   "metadata": {},
   "source": [
    "### Number of ways"
   ]
  },
  {
   "cell_type": "code",
   "execution_count": 12,
   "metadata": {
    "collapsed": false
   },
   "outputs": [
    {
     "name": "stdout",
     "output_type": "stream",
     "text": [
      "504110\n"
     ]
    }
   ],
   "source": [
    "result = db_madrid.find({\"type\":\"way\"}).count()\n",
    "pprint.pprint(result)"
   ]
  },
  {
   "cell_type": "markdown",
   "metadata": {},
   "source": [
    "### Top postcodes "
   ]
  },
  {
   "cell_type": "code",
   "execution_count": 13,
   "metadata": {
    "collapsed": false,
    "scrolled": false
   },
   "outputs": [
    {
     "name": "stdout",
     "output_type": "stream",
     "text": [
      "[{u'_id': u'28330', u'count': 5252},\n",
      " {u'_id': u'28300', u'count': 3968},\n",
      " {u'_id': u'28017', u'count': 3531},\n",
      " {u'_id': u'28970', u'count': 3135},\n",
      " {u'_id': u'28830', u'count': 2709},\n",
      " {u'_id': u'28030', u'count': 2620},\n",
      " {u'_id': u'28004', u'count': 1990},\n",
      " {u'_id': u'28180', u'count': 1884},\n",
      " {u'_id': u'28012', u'count': 1727},\n",
      " {u'_id': u'28007', u'count': 1414}]\n"
     ]
    }
   ],
   "source": [
    "result = [doc for doc in db_madrid.aggregate([{\"$match\":{\"address.postcode\":{\"$exists\":1}}}, \n",
    "                                       {\"$group\":{\"_id\":\"$address.postcode\", \"count\":{\"$sum\":1}}}, \n",
    "                                       {\"$sort\":{\"count\":-1}},{\"$limit\":10}])]\n",
    "pprint.pprint(result)"
   ]
  },
  {
   "cell_type": "markdown",
   "metadata": {},
   "source": [
    "From the results above we can see that the postcode 28330 is the one with more nodes identified, it we take a look at the area in the map we can observe that this is a big but rather unpopulated area in the outskirts of Madrid.\n",
    "\n",
    "![img](area28330.png)\n",
    "\n",
    "So how is that this postcode is so popular in our database? maybe a very active user lives there. So we can list the users that populate nodes in that area. From this query we can see that most of the records in this area (95%) have been created by the user 3196761. \n",
    "\n",
    "Thanks to that user this area is well populated."
   ]
  },
  {
   "cell_type": "code",
   "execution_count": 14,
   "metadata": {
    "collapsed": false
   },
   "outputs": [
    {
     "name": "stdout",
     "output_type": "stream",
     "text": [
      "[{u'_id': u'3196761', u'count': 4992}, {u'_id': u'2240612', u'count': 260}]\n"
     ]
    }
   ],
   "source": [
    "result = [doc for doc in db_madrid.aggregate([{\"$match\":{\"address.postcode\":'28330',\n",
    "                                                         \"created.uid\":{\"$exists\":1}}}, \n",
    "                                       {\"$group\":{\"_id\":\"$created.uid\", \n",
    "                                                  \"count\":{\"$sum\":1}}}, \n",
    "                                       {\"$sort\":{\"count\":-1}}])]\n",
    "pprint.pprint(result)"
   ]
  },
  {
   "cell_type": "markdown",
   "metadata": {},
   "source": [
    "### Number of documents with an street field"
   ]
  },
  {
   "cell_type": "code",
   "execution_count": 15,
   "metadata": {
    "collapsed": false
   },
   "outputs": [
    {
     "name": "stdout",
     "output_type": "stream",
     "text": [
      "67757\n"
     ]
    }
   ],
   "source": [
    "result =  [doc for doc in db_madrid.find({\"address.street\":{\"$exists\":1}})]\n",
    "pprint.pprint(len(result))"
   ]
  },
  {
   "cell_type": "markdown",
   "metadata": {},
   "source": [
    "### Number of adresses with no postcode or invalid one"
   ]
  },
  {
   "cell_type": "code",
   "execution_count": 16,
   "metadata": {
    "collapsed": false
   },
   "outputs": [
    {
     "name": "stdout",
     "output_type": "stream",
     "text": [
      "15279\n"
     ]
    }
   ],
   "source": [
    "result = [doc for doc in db_madrid.aggregate([{\"$match\":{\"address.street\":{\"$exists\":1}}}, \n",
    "                                       {\"$group\":{\"_id\":\"$address.postcode\", \"count\":{\"$sum\":1}}}, \n",
    "                                       {\"$match\":{\"_id\":None}}])]\n",
    "pprint.pprint(result[0][\"count\"])"
   ]
  },
  {
   "cell_type": "markdown",
   "metadata": {},
   "source": [
    "### Most popular amenities"
   ]
  },
  {
   "cell_type": "code",
   "execution_count": 17,
   "metadata": {
    "collapsed": false
   },
   "outputs": [
    {
     "name": "stdout",
     "output_type": "stream",
     "text": [
      "[{u'_id': u'parking', u'count': 5513},\n",
      " {u'_id': u'restaurant', u'count': 3715},\n",
      " {u'_id': u'school', u'count': 3316},\n",
      " {u'_id': u'pharmacy', u'count': 2229},\n",
      " {u'_id': u'drinking_water', u'count': 2225},\n",
      " {u'_id': u'bank', u'count': 1723},\n",
      " {u'_id': u'bar', u'count': 1434},\n",
      " {u'_id': u'bench', u'count': 1406},\n",
      " {u'_id': u'recycling', u'count': 1360},\n",
      " {u'_id': u'bicycle_parking', u'count': 1238}]\n"
     ]
    }
   ],
   "source": [
    "result = [doc for doc in db_madrid.aggregate([{\"$match\":{\"amenity\":{\"$exists\":1}}}, \n",
    "                                       {\"$group\":{\"_id\":\"$amenity\", \"count\":{\"$sum\":1}}}, \n",
    "                                       {\"$sort\":{\"count\":-1}},{\"$limit\":10}])]\n",
    "pprint.pprint(result)"
   ]
  },
  {
   "cell_type": "markdown",
   "metadata": {},
   "source": [
    "### Most popular leisures"
   ]
  },
  {
   "cell_type": "code",
   "execution_count": 18,
   "metadata": {
    "collapsed": false
   },
   "outputs": [
    {
     "name": "stdout",
     "output_type": "stream",
     "text": [
      "[{u'_id': u'garden', u'count': 8180},\n",
      " {u'_id': u'pitch', u'count': 6302},\n",
      " {u'_id': u'swimming_pool', u'count': 5542},\n",
      " {u'_id': u'park', u'count': 3507},\n",
      " {u'_id': u'playground', u'count': 2029},\n",
      " {u'_id': u'sports_centre', u'count': 881},\n",
      " {u'_id': u'common', u'count': 246},\n",
      " {u'_id': u'track', u'count': 144},\n",
      " {u'_id': u'stadium', u'count': 89},\n",
      " {u'_id': u'dog_park', u'count': 62}]\n"
     ]
    }
   ],
   "source": [
    "result = [doc for doc in db_madrid.aggregate([{\"$match\":{\"leisure\":{\"$exists\":1}}}, \n",
    "                                       {\"$group\":{\"_id\":\"$leisure\", \"count\":{\"$sum\":1}}}, \n",
    "                                       {\"$sort\":{\"count\":-1}},{\"$limit\":10}])]\n",
    "pprint.pprint(result)"
   ]
  },
  {
   "cell_type": "markdown",
   "metadata": {},
   "source": [
    "### Street of type \"calle\""
   ]
  },
  {
   "cell_type": "code",
   "execution_count": 19,
   "metadata": {
    "collapsed": false
   },
   "outputs": [
    {
     "name": "stdout",
     "output_type": "stream",
     "text": [
      "57009\n"
     ]
    }
   ],
   "source": [
    "result = [doc for doc in db_madrid.aggregate([\n",
    "                                      {\"$match\":{\"address.street\":{\"$exists\":1, \"$regex\": '^calle'}}},\n",
    "                                      {\"$group\":{\"_id\":\"calle\", \"count\":{\"$sum\":1}}},\n",
    "                                      {\"$sort\":{\"count\":1}}])]\n",
    "pprint.pprint(result[0][\"count\"])"
   ]
  },
  {
   "cell_type": "markdown",
   "metadata": {},
   "source": [
    "### Most active users\n",
    "\n",
    "We can observer that the most active user accounts for the 10% of all the contributions."
   ]
  },
  {
   "cell_type": "code",
   "execution_count": 20,
   "metadata": {
    "collapsed": false
   },
   "outputs": [
    {
     "name": "stdout",
     "output_type": "stream",
     "text": [
      "[{u'_id': u'718437', u'count': 452285, u'name': [u'carlosz22']},\n",
      " {u'_id': u'468314', u'count': 350368, u'name': [u'rafaerti']},\n",
      " {u'_id': u'2245342', u'count': 260589, u'name': [u'cirdancarpintero']},\n",
      " {u'_id': u'777223', u'count': 194528, u'name': [u'Serfuen']},\n",
      " {u'_id': u'491515', u'count': 162791, u'name': [u'robertogeb']},\n",
      " {u'_id': u'33103', u'count': 150752, u'name': [u'sergionaranja']},\n",
      " {u'_id': u'3196761', u'count': 149092, u'name': [u'JavierSp']},\n",
      " {u'_id': u'436572', u'count': 141117, u'name': [u'Pelanas']},\n",
      " {u'_id': u'2500', u'count': 135641, u'name': [u'jamesks']},\n",
      " {u'_id': u'3584', u'count': 131142, u'name': [u'gpesquero']}]\n"
     ]
    }
   ],
   "source": [
    "result = [doc for doc in db_madrid.aggregate([{\"$match\":{\"created.uid\":{\"$exists\":1}}},\n",
    "                                      {\"$group\":{\"_id\":\"$created.uid\", \n",
    "                                                 \"name\": { \"$addToSet\": \"$created.user\" } ,\n",
    "                                                 \"count\":{\"$sum\":1}}},\n",
    "                                      {\"$sort\":{\"count\":-1}},\n",
    "                                      {\"$limit\":10}])]\n",
    "\n",
    "pprint.pprint(result)"
   ]
  },
  {
   "cell_type": "markdown",
   "metadata": {},
   "source": [
    "We can see in the following histogram how users are distributed for those with less than 100 contributions."
   ]
  },
  {
   "cell_type": "code",
   "execution_count": 21,
   "metadata": {
    "collapsed": false
   },
   "outputs": [
    {
     "data": {
      "image/png": "[encoded data removed]",
      "text/plain": [
       "<matplotlib.figure.Figure at 0x114695950>"
      ]
     },
     "metadata": {},
     "output_type": "display_data"
    }
   ],
   "source": [
    "result = [doc for doc in db_madrid.aggregate([{\"$match\":{\"created.uid\":{\"$exists\":1}}},\n",
    "                                      {\"$group\":{\"_id\":\"$created.uid\", \n",
    "                                                 \"name\": { \"$addToSet\": \"$created.user\" } ,\n",
    "                                                 \"count\":{\"$sum\":1}}},\n",
    "                                      {\"$match\":{\"count\":{\"$lt\":100}}},\n",
    "                                      {\"$sort\":{\"count\":-1}}])]\n",
    "\n",
    "y = [x[\"count\"] for x in result]\n",
    "plt.hist( y,100)\n",
    "plt.title(\"User contributions\")\n",
    "plt.xlabel('Number of contributions')\n",
    "plt.ylabel('Number of users')\n",
    "plt.show()"
   ]
  },
  {
   "cell_type": "markdown",
   "metadata": {},
   "source": [
    "### Number of green spaces"
   ]
  },
  {
   "cell_type": "code",
   "execution_count": 22,
   "metadata": {
    "collapsed": false
   },
   "outputs": [
    {
     "name": "stdout",
     "output_type": "stream",
     "text": [
      "11688\n"
     ]
    }
   ],
   "source": [
    "result =  db_madrid.find({\"leisure\":{\"$in\":[\"park\",\"natural_reserve\",\"garden\"]}}).count()\n",
    "pprint.pprint(result)"
   ]
  },
  {
   "cell_type": "markdown",
   "metadata": {},
   "source": [
    "## Additional ideas\n",
    "\n",
    "In this dataset the address field uses the spanish labeling whereas most leisure data use english, it would be interesting to use a common language e.g. English. However, programmatic translations are not an easy task and can lead to other errors, especially when different languages are used in a same dataset where false friend may cause tranlation errors for example.\n",
    "\n",
    "It would also be interesting to assess the closeness of some nodes to others for example, which bars are within 200m of a park? but this kind of queries are not stright forward to perform using MongoDB or an SQL database, maybe a graph database may help in this task.\n",
    "\n",
    "Also wrong postcodes could be corrected using the address in order to obtain the postcode using a third party API that relates addresses with postcodes.\n",
    "\n",
    "From the analysis of the contributions in the postcode 28330 area we can see how important are active users in order to have quality data in an area. One question that can arise from this observation is to quantify the quality of the data provided by the users. for e.g. we can ask,  which users provide postcodes in their inputs? As in the query below, and we can observed that although the top contributor remains 'carlosz22' we can see that 'JavierSp' is now second, this is the user that contributed to the postcode 28330 area. a further analysis could be to see how the users contribute to different areas for example using the postcodes as references.\n"
   ]
  },
  {
   "cell_type": "code",
   "execution_count": 23,
   "metadata": {
    "collapsed": false
   },
   "outputs": [
    {
     "name": "stdout",
     "output_type": "stream",
     "text": [
      "[{u'_id': u'718437', u'count': 8454},\n",
      " {u'_id': u'3196761', u'count': 4995},\n",
      " {u'_id': u'1334676', u'count': 3785},\n",
      " {u'_id': u'2277975', u'count': 3655},\n",
      " {u'_id': u'777223', u'count': 3232},\n",
      " {u'_id': u'2295186', u'count': 3108},\n",
      " {u'_id': u'2019603', u'count': 3073},\n",
      " {u'_id': u'1773299', u'count': 2952},\n",
      " {u'_id': u'1877329', u'count': 1920},\n",
      " {u'_id': u'220932', u'count': 1684}]\n"
     ]
    }
   ],
   "source": [
    "result = [doc for doc in db_madrid.aggregate([{\"$match\":{\"created.uid\":{\"$exists\":1},\n",
    "                                                         \"address.postcode\":{\"$exists\":1}}},\n",
    "                                      {\"$group\":{\"_id\":\"$created.uid\" ,\n",
    "                                                 \"count\":{\"$sum\":1}}},\n",
    "                                      {\"$sort\":{\"count\":-1}},\n",
    "                                      {\"$limit\":10}])]\n",
    "\n",
    "pprint.pprint(result)"
   ]
  },
  {
   "cell_type": "markdown",
   "metadata": {},
   "source": [
    "Another question we could make is to see who are the contributors that have set more number of different postcodes. i.e the contributors to more different areas in Madrid. We can see that the top user in this list has contributed to more than 100 areas, a great traveller."
   ]
  },
  {
   "cell_type": "code",
   "execution_count": 24,
   "metadata": {
    "collapsed": false
   },
   "outputs": [
    {
     "name": "stdout",
     "output_type": "stream",
     "text": [
      "[{u'_id': u'220932', u'count': 101},\n",
      " {u'_id': u'316694', u'count': 77},\n",
      " {u'_id': u'2153421', u'count': 70},\n",
      " {u'_id': u'26599', u'count': 64},\n",
      " {u'_id': u'42055', u'count': 57},\n",
      " {u'_id': u'718437', u'count': 51},\n",
      " {u'_id': u'2403132', u'count': 51},\n",
      " {u'_id': u'4647806', u'count': 41},\n",
      " {u'_id': u'2245342', u'count': 40},\n",
      " {u'_id': u'1068293', u'count': 38}]\n"
     ]
    }
   ],
   "source": [
    "result = [doc for doc in db_madrid.aggregate([\n",
    "                                      {\"$match\":{\"created.uid\":{\"$exists\":1},\n",
    "                                                 \"address.postcode\":{\"$exists\":1}}},\n",
    "                                      {\"$group\":{\"_id\":\"$created.uid\", \n",
    "                                                 \"postcodes\": { \"$addToSet\": \"$address.postcode\" } ,\n",
    "                                                 \"count\":{\"$sum\":1}}},\n",
    "                                      {\"$unwind\":\"$postcodes\"},\n",
    "                                      {\"$group\":{\"_id\":\"$_id\",\"count\":{\"$sum\":1}}},\n",
    "                                      {\"$sort\":{\"count\":-1}},\n",
    "                                      {\"$limit\":10}])]\n",
    "\n",
    "pprint.pprint(result)\n"
   ]
  },
  {
   "cell_type": "markdown",
   "metadata": {},
   "source": [
    "It can be interest to see how different areas compare, for example we can which areas have more restaurants. However it should be taken into account thath not all areas are equal in size. and that some areas might not be well populated with data."
   ]
  },
  {
   "cell_type": "code",
   "execution_count": 25,
   "metadata": {
    "collapsed": false
   },
   "outputs": [
    {
     "name": "stdout",
     "output_type": "stream",
     "text": [
      "[{u'_id': u'28004', u'count': 219},\n",
      " {u'_id': u'28013', u'count': 192},\n",
      " {u'_id': u'28015', u'count': 139},\n",
      " {u'_id': u'28012', u'count': 111},\n",
      " {u'_id': u'28005', u'count': 71},\n",
      " {u'_id': u'28020', u'count': 42},\n",
      " {u'_id': u'28008', u'count': 40},\n",
      " {u'_id': u'28010', u'count': 36},\n",
      " {u'_id': u'28006', u'count': 30},\n",
      " {u'_id': u'28001', u'count': 28}]\n"
     ]
    }
   ],
   "source": [
    "result = [doc for doc in db_madrid.aggregate([{\"$match\":{\"amenity\":\"restaurant\",\"address.postcode\":{\"$exists\":1}}}, \n",
    "                                       {\"$group\":{\"_id\":\"$address.postcode\", \"count\":{\"$sum\":1}}}, \n",
    "                                       {\"$sort\":{\"count\":-1}},{\"$limit\":10}])]\n",
    "pprint.pprint(result)"
   ]
  },
  {
   "cell_type": "markdown",
   "metadata": {},
   "source": [
    "Another interesting analysis would be to compare the different top amenities in difference places, for example how the number of schools compare between different cities, etc.. This will imply a very large dataset and take into account other data in order to normalize the values e.g. schools per person."
   ]
  },
  {
   "cell_type": "markdown",
   "metadata": {
    "collapsed": true
   },
   "source": [
    "## Conclusion\n",
    "\n",
    "After the review of the dataset it is clear that there are typos in the manual inputs even for postcodes that are easy to validate during the input phase, maybe it would be nice to have some schema and field validation when users incorporate data into the OSM dataset. \n",
    "\n",
    "Furthermore, we can see that the language may impact the dataset as some fields tend to be filled in the local language whereas others such as the kind of leisure tend to be filled in english although it is not always the case and some field have mixed inputs which may difficult querying the database for users not familiar with the local language.\n",
    "\n",
    "Finally, we can see that some areas are more complete and this seems to be highly related to the active users in that area, so it would be nice to have a way to incentivate or recompensate more active users, for example with badgets or lists of top users. This is important because the quality of the data depends directly on the users.\n",
    "\n"
   ]
  },
  {
   "cell_type": "code",
   "execution_count": null,
   "metadata": {
    "collapsed": true
   },
   "outputs": [],
   "source": []
  }
 ],
 "metadata": {
  "kernelspec": {
   "display_name": "Python 2",
   "language": "python",
   "name": "python2"
  },
  "language_info": {
   "codemirror_mode": {
    "name": "ipython",
    "version": 2
   },
   "file_extension": ".py",
   "mimetype": "text/x-python",
   "name": "python",
   "nbconvert_exporter": "python",
   "pygments_lexer": "ipython2",
   "version": "2.7.12"
  }
 },
 "nbformat": 4,
 "nbformat_minor": 0
}
